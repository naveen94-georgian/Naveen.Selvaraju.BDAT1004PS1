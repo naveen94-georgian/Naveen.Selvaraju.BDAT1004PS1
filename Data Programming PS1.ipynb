{
 "cells": [
  {
   "cell_type": "markdown",
   "metadata": {},
   "source": [
    "## BDAT 1004 – Data Programming - Problem Set 1\n",
    "***"
   ]
  },
  {
   "cell_type": "markdown",
   "metadata": {},
   "source": [
    "### Question 1\n",
    "What data type is each of the following?"
   ]
  },
  {
   "cell_type": "markdown",
   "metadata": {},
   "source": [
    "#### Answer:\n",
    "| Value           | Data Type       |\n",
    "| :-------------- | :-------------- |\n",
    "| 5               | int             |\n",
    "| 5.0             | float           |\n",
    "| 5 > 1           | boolean         |\n",
    "| '5'             | string          |\n",
    "| 5 * 2           | int             |\n",
    "| '5' * 2         | string          |\n",
    "| '5' + '2'       | string          |\n",
    "| 5 / 2           | float           |\n",
    "| 5 // 2          | int             |\n",
    "| [5, 2, 1]       | list            |\n",
    "| 5 in [1, 4, 6]  | boolean         |\n",
    "| math.pi         | float           |"
   ]
  },
  {
   "cell_type": "markdown",
   "metadata": {},
   "source": [
    "### Question 2\n",
    "Write (and evaluate) Python expressions that answer these questions:<br>\n",
    "&emsp; a. How many letters are there in 'Supercalifragilisticexpialidocious'?<br>\n",
    "&emsp; b. Does 'Supercalifragilisticexpialidocious' contain 'ice' as a substring?<br>\n",
    "&emsp; c. Which of the following words is the longest: Supercalifragilisticexpialidocious, Honorificabilitudinitatibus, or\n",
    "Bababadalgharaghtakamminarronnkonn?<br>\n",
    "&emsp; d. Which composer comes first in the dictionary: 'Berlioz', 'Borodin', 'Brian',\n",
    "'Bartok', 'Bellini', 'Buxtehude', 'Bernstein'. Which one comes last?\n",
    "<br>"
   ]
  },
  {
   "cell_type": "markdown",
   "metadata": {},
   "source": [
    "**Answer a:**"
   ]
  },
  {
   "cell_type": "code",
   "execution_count": 1,
   "metadata": {},
   "outputs": [],
   "source": [
    "str = 'Supercalifragilisticexpialidocious'"
   ]
  },
  {
   "cell_type": "code",
   "execution_count": 2,
   "metadata": {},
   "outputs": [
    {
     "name": "stdout",
     "output_type": "stream",
     "text": [
      "The number of letters in 'Supercalifragilisticexpialidocious':  34\n"
     ]
    }
   ],
   "source": [
    "print('The number of letters in \\'Supercalifragilisticexpialidocious\\': ', len(str))"
   ]
  },
  {
   "cell_type": "markdown",
   "metadata": {},
   "source": [
    "**Answer b:**"
   ]
  },
  {
   "cell_type": "code",
   "execution_count": 3,
   "metadata": {},
   "outputs": [
    {
     "name": "stdout",
     "output_type": "stream",
     "text": [
      "Does 'Supercalifragilisticexpialidocious' has substring 'ice':  True\n"
     ]
    }
   ],
   "source": [
    "print('Does \\'Supercalifragilisticexpialidocious\\' has substring \\'ice\\': ', 'ice' in str)"
   ]
  },
  {
   "cell_type": "markdown",
   "metadata": {},
   "source": [
    "**Answer c:**"
   ]
  },
  {
   "cell_type": "code",
   "execution_count": 4,
   "metadata": {},
   "outputs": [
    {
     "name": "stdout",
     "output_type": "stream",
     "text": [
      "The Longest word is 'Supercalifragilisticexpialidocious' with 34 words.\n"
     ]
    }
   ],
   "source": [
    "wordList=['Supercalifragilisticexpialidocious', 'Honorificabilitudinitatibus', 'Bababadalgharaghtakamminarronnkonn']\n",
    "maxlenidx, maxlen = 0, len(wordList[0])\n",
    "for i in range(1, len(wordList)):\n",
    "    if len(wordList[i]) > maxlen:\n",
    "        maxlen = len(wordList[i])\n",
    "        maxlenidx = i\n",
    "print('The Longest word is',\"'\"+wordList[maxlenidx]+\"'\", 'with', maxlen, 'words.')\n",
    "    "
   ]
  },
  {
   "cell_type": "markdown",
   "metadata": {},
   "source": [
    "**Answer d:**"
   ]
  },
  {
   "cell_type": "code",
   "execution_count": 5,
   "metadata": {},
   "outputs": [
    {
     "name": "stdout",
     "output_type": "stream",
     "text": [
      "The First word in the list 'Bartok'.\n",
      "The Last word in the list 'Buxtehude'.\n"
     ]
    }
   ],
   "source": [
    "wordList =['Berlioz', 'Borodin', 'Brian', 'Bartok', 'Bellini', 'Buxtehude', 'Bernstein']\n",
    "wordList.sort()\n",
    "print('The First word in the list',\"'\"+ wordList[0]+ \"'.\")\n",
    "print('The Last word in the list',\"'\"+ wordList[-1]+ \"'.\")"
   ]
  },
  {
   "cell_type": "markdown",
   "metadata": {},
   "source": [
    "### Question 3\n",
    "&emsp; **a.** Write a function inside(x,y,x1,y1,x2,y2) that returns True or False depending on whether <br>\n",
    "the point (x,y) lies in the rectangle with lower left corner (x1,y1) and upper right corner (x2,y2).<br>\n",
    "\n",
    "&emsp; **b.** Use function inside() from part a. to write an expression that tests whether the point (1,1) lies in both of the<br> following rectangles: one with lower left corner (0.3, 0.5) and upper right corner (1.1, 0.7) and the other with lower<br>\n",
    "left corner (0.5, 0.2) and upper right corner (1.1, 2). <br>"
   ]
  },
  {
   "cell_type": "code",
   "execution_count": 6,
   "metadata": {},
   "outputs": [
    {
     "data": {
      "text/plain": [
       "True"
      ]
     },
     "execution_count": 6,
     "metadata": {},
     "output_type": "execute_result"
    }
   ],
   "source": [
    "def inside(x, y, x1, y1, x2, y2):\n",
    "    if x>=x1 and x<=x2 and y>=y1 and y<=y2:\n",
    "        return True\n",
    "    else:\n",
    "        return False\n",
    "inside(1,1,0,0,2,3)"
   ]
  },
  {
   "cell_type": "code",
   "execution_count": 7,
   "metadata": {},
   "outputs": [
    {
     "name": "stdout",
     "output_type": "stream",
     "text": [
      "The point(1,1) does not lie within the rectangle (0.3,0.5,1.1,0.7)\n"
     ]
    }
   ],
   "source": [
    "if inside(1,1,0.3,0.5,1.1,0.7):\n",
    "    print('The point(1,1) lies within the rectangle (0.3,0.5,1.1,0.7)') \n",
    "else:\n",
    "     print('The point(1,1) does not lie within the rectangle (0.3,0.5,1.1,0.7)') "
   ]
  },
  {
   "cell_type": "code",
   "execution_count": 8,
   "metadata": {},
   "outputs": [
    {
     "name": "stdout",
     "output_type": "stream",
     "text": [
      "The point(1,1) lies within the rectangle (1,1,0.5,0.2,1.1,2)\n"
     ]
    }
   ],
   "source": [
    "if inside(1,1,0.5,0.2,1.1,2):\n",
    "    print('The point(1,1) lies within the rectangle (1,1,0.5,0.2,1.1,2)') \n",
    "else:\n",
    "     print('The point(1,1) does not lie within the rectangle (1,1,0.5,0.2,1.1,2)') "
   ]
  },
  {
   "cell_type": "markdown",
   "metadata": {},
   "source": [
    "### Question 4\n",
    "You can turn a word into pig-Latin using the following two rules (simplified):<br>\n",
    "- If the word starts with a consonant, move that letter to the end and append'ay'.For example, 'happy' becomes 'appyhay'<br>\n",
    "   and 'pencil' becomes 'encilpay'.<br>\n",
    "- If the word starts with a vowel, simply append 'way' to the end of the word. For example, 'enter' becomes 'enterway' and<br>   'other' becomes 'otherway' . For our purposes, there are 5 vowels: a, e, i, o, u (so we count y as a consonant).<br>\n",
    "  Write a function pig() that takes a word (i.e., a string) as input and returns its pigLatin form. Your function should<br>\n",
    "  still work if the input word contains upper case characters. Your output should always be lower case however. <br>"
   ]
  },
  {
   "cell_type": "code",
   "execution_count": 9,
   "metadata": {},
   "outputs": [],
   "source": [
    "def big(word):\n",
    "    word=word.lower()\n",
    "    vowels = ['a','e','i','o','u']\n",
    "    if word[0] in vowels:\n",
    "        word = word+'way'\n",
    "    else:\n",
    "        word = word[1:] + word[0] + 'ay'\n",
    "    return word"
   ]
  },
  {
   "cell_type": "code",
   "execution_count": 10,
   "metadata": {},
   "outputs": [
    {
     "data": {
      "text/plain": [
       "'enhay'"
      ]
     },
     "execution_count": 10,
     "metadata": {},
     "output_type": "execute_result"
    }
   ],
   "source": [
    "big('Hen')"
   ]
  },
  {
   "cell_type": "code",
   "execution_count": 11,
   "metadata": {},
   "outputs": [
    {
     "data": {
      "text/plain": [
       "'appleway'"
      ]
     },
     "execution_count": 11,
     "metadata": {},
     "output_type": "execute_result"
    }
   ],
   "source": [
    "big('apple')"
   ]
  },
  {
   "cell_type": "markdown",
   "metadata": {},
   "source": [
    "### Question 5\n",
    "File bloodtype1.txt records blood-types of patients (A, B, AB, O or OO) at a clinic.,<br>\n",
    "Write a function bldcount() that reads the file with name name and reports (i.e.,prints)<br>\n",
    "how many patients there are in each bloodtype.<br>\n",
    "<p>>>> bldcount('bloodtype.txt')</p>\n",
    "There are 10 patients of blood type A.<br>\n",
    "There is one patient of blood type B.<br>\n",
    "There are 10 patients of blood type AB.<br>\n",
    "There are 12 patients of blood type O.<br>\n",
    "There are no patients of blood type OO.<br>\n"
   ]
  },
  {
   "cell_type": "code",
   "execution_count": 12,
   "metadata": {},
   "outputs": [],
   "source": [
    "def bldcount(fileName):\n",
    "    bldtype = ['A','B','AB','O','OO']\n",
    "    infile = open(fileName, 'r')\n",
    "    strList = infile.read().split(' ')\n",
    "    for btype in bldtype:\n",
    "        bCount = strList.count(btype)\n",
    "        if bCount == 0:\n",
    "            print('There are no patients of blood type',btype)\n",
    "        elif bCount == 1:\n",
    "            print('There is one patient of blood type',btype)\n",
    "        else:\n",
    "            print('There are',bCount ,'patients of blood type',btype)\n",
    "        "
   ]
  },
  {
   "cell_type": "code",
   "execution_count": 13,
   "metadata": {},
   "outputs": [
    {
     "name": "stdout",
     "output_type": "stream",
     "text": [
      "There are 15 patients of blood type A\n",
      "There is one patient of blood type B\n",
      "There are 13 patients of blood type AB\n",
      "There are 15 patients of blood type O\n",
      "There are no patients of blood type OO\n"
     ]
    }
   ],
   "source": [
    "bldcount('bloodtype1.txt')"
   ]
  },
  {
   "cell_type": "markdown",
   "metadata": {},
   "source": [
    "### Question 6\n",
    "Write a function curconv() that takes as input:<br>\n",
    "1. a currency represented using a string (e.g., 'JPY' for the Japanese Yen or<br>\n",
    "'EUR' for the Euro)<br>\n",
    "2. an amount<br>\n",
    "and then converts and returns the amount in US dollars.<br>"
   ]
  },
  {
   "cell_type": "code",
   "execution_count": 14,
   "metadata": {},
   "outputs": [],
   "source": [
    "def curconv(country, amount):\n",
    "    exchange = {}\n",
    "    currfile = open('currencies.txt', 'r')\n",
    "    lines = currfile.readlines()\n",
    "    for line in lines:\n",
    "        exchange[line.split('\\t')[0]]=  float(line.split('\\t')[1])\n",
    "    return exchange[country] * amount          "
   ]
  },
  {
   "cell_type": "code",
   "execution_count": 15,
   "metadata": {},
   "outputs": [
    {
     "data": {
      "text/plain": [
       "122.96544"
      ]
     },
     "execution_count": 15,
     "metadata": {},
     "output_type": "execute_result"
    }
   ],
   "source": [
    "curconv('EUR',100)"
   ]
  },
  {
   "cell_type": "markdown",
   "metadata": {},
   "source": [
    "### Question 7\n",
    "Each of the following will cause an exception (an error). Identify what type of exception each will cause.<br>\n",
    "- Trying to add incompatible variables, as in adding 6 + ‘a’\n",
    "- Referring to the 12th item of a list that has only 10 items\n",
    "- Using a value that is out of range for a function’s input, such as calling math.sqrt(-1.0)\n",
    "- Using an undeclared variable, such as print(x) when x has not been defined \n",
    "- Trying to open a file that does not exist, such as mistyping the file name or looking in the wrong directory. "
   ]
  },
  {
   "cell_type": "markdown",
   "metadata": {},
   "source": [
    "|**Expression**  |**Exception**   |\n",
    "|:------|:------ |\n",
    "|6+'a'| TypeError |\n",
    "|li[12] | IndexError |\n",
    "|math.sqrt(-1.0) | math domain error|\n",
    "|print(x) | NameError|\n",
    "|open('name.txt','r') | FileNotFoundError |"
   ]
  },
  {
   "cell_type": "markdown",
   "metadata": {},
   "source": [
    "### Question 8\n",
    "Encryption is the process of hiding the meaning of a text by substituting letters in the message with other letters,<br>\n",
    "according to some system. If the process is successful, no one but the intended recipient can understand the encrypted message.<br> Cryptanalysisrefers to attempts to undo the encryption, even if some details of the encryption are unknown<br>\n",
    "(for example, if an encrypted message has been intercepted). The first step of cryptanalysis is often to build up a table of<br> letter frequencies in the encrypted text. Assume that the string letters is already defined as\n",
    "'abcdefghijklmnopqrstuvwxyz'.<br>\n",
    "Write a function called frequencies() that takes a string as its only parameter, and returns a list of integers, showing the\n",
    "number of times<br> each character appears in the text. Your function may ignore any characters that are not in letters.<br>\n",
    "<p>>>> frequencies('The quick red fox got bored and went home.')</p>\n",
    "[1, 1, 1, 3, 5, 1, 1, 2, 1, 0, 1, 0, 1, 2, 4, 0, 1, 2, 0, 2,\n",
    "1, 0, 1, 1, 0, 0]\n",
    "<p>>>> frequencies('apple')</p>\n"
   ]
  },
  {
   "cell_type": "code",
   "execution_count": 16,
   "metadata": {},
   "outputs": [],
   "source": [
    "def frequencies(inpstring):\n",
    "    letters = 'abcdefghijklmnopqrstuvwxyz'\n",
    "    freqList= [0]*len(letters)\n",
    "    for idx, val in enumerate(letters):\n",
    "        freqList[idx] = inpstring.count(val)           \n",
    "    print(freqList)"
   ]
  },
  {
   "cell_type": "code",
   "execution_count": 17,
   "metadata": {},
   "outputs": [
    {
     "name": "stdout",
     "output_type": "stream",
     "text": [
      "[1, 1, 1, 3, 5, 1, 1, 2, 1, 0, 1, 0, 1, 2, 4, 0, 1, 2, 0, 2, 1, 0, 1, 1, 0, 0]\n"
     ]
    }
   ],
   "source": [
    "frequencies('The quick red fox got bored and went home.')"
   ]
  },
  {
   "cell_type": "markdown",
   "metadata": {},
   "source": [
    "### Question 9\n",
    "The Sieve of Erastophenes is an algorithm -- known to ancient Greeks -- that finds all prime numbers up to a given number n.\n",
    "<br>It does this by first creating a list L from 2 to n and an (initially empty) list primeL. The algorithm then takes the <br>first number in list L (2) and appends it to list primeL, and then removes 2 and all its multiples(4,6,8,10,12, ...) from L.<br> The algorithm then takes the new first number in L (3) and appends it to list primeL, and then removes from L 3 and all <br>its remaining multiples (9,15,21,...). So, in every iteration, the first number of list L is appended to list primeL and <br>then it and its multiples are removed from list L. The iterations stop when list L becomes empty. Write a function sieve() <br>that takes as input a positive integer n, implements the above algorithm, and returns a list of all prime numbers up to n."
   ]
  },
  {
   "cell_type": "code",
   "execution_count": 18,
   "metadata": {},
   "outputs": [],
   "source": [
    "def sieve(n):\n",
    "    L = list(range(2,n+1))\n",
    "    primeL = []\n",
    "    currL = 1\n",
    "    while L:\n",
    "        for idx,val in enumerate(L):\n",
    "            if idx == 0:\n",
    "                primeL.append(L[idx])\n",
    "                currL = L[idx]\n",
    "                L.remove(val)\n",
    "            elif L[idx] % currL == 0:\n",
    "                L.remove(val)\n",
    "    return primeL"
   ]
  },
  {
   "cell_type": "code",
   "execution_count": 19,
   "metadata": {},
   "outputs": [
    {
     "data": {
      "text/plain": [
       "[2, 3, 5, 7, 11, 13, 17, 19, 23, 29, 31, 37, 41, 43, 47, 53]"
      ]
     },
     "execution_count": 19,
     "metadata": {},
     "output_type": "execute_result"
    }
   ],
   "source": [
    "sieve(56)"
   ]
  },
  {
   "cell_type": "markdown",
   "metadata": {},
   "source": [
    "### Question 10\n",
    "Implement function triangleArea(a,b,c) that takes as input the lengths of the 3<br>\n",
    "sides of a triangle and returns the area of the triangle. By Heron's formula, the area<br>\n",
    "of a triangle with side lengths a, b, and c is<br>\n",
    "<br>\n",
    "$\\sqrt{s(s - a)(s -b)(s -c)}$, where s = (a+b+c)/2.<br>\n",
    "<p>>>> triangleArea(2,2,2)</p><br>\n",
    "1.7320508075688772"
   ]
  },
  {
   "cell_type": "code",
   "execution_count": 20,
   "metadata": {},
   "outputs": [],
   "source": [
    "import math\n",
    "def triangleArea(a, b, c):\n",
    "    s=(a+b+c)/2\n",
    "    return math.sqrt(s*(s-a)*(s-b)*(s-c))"
   ]
  },
  {
   "cell_type": "code",
   "execution_count": 21,
   "metadata": {},
   "outputs": [
    {
     "data": {
      "text/plain": [
       "1.7320508075688772"
      ]
     },
     "execution_count": 21,
     "metadata": {},
     "output_type": "execute_result"
    }
   ],
   "source": [
    "triangleArea(2,2,2)"
   ]
  },
  {
   "cell_type": "code",
   "execution_count": null,
   "metadata": {},
   "outputs": [],
   "source": []
  }
 ],
 "metadata": {
  "kernelspec": {
   "display_name": "dataprog",
   "language": "python",
   "name": "dataprog"
  },
  "language_info": {
   "codemirror_mode": {
    "name": "ipython",
    "version": 3
   },
   "file_extension": ".py",
   "mimetype": "text/x-python",
   "name": "python",
   "nbconvert_exporter": "python",
   "pygments_lexer": "ipython3",
   "version": "3.8.3"
  }
 },
 "nbformat": 4,
 "nbformat_minor": 4
}
